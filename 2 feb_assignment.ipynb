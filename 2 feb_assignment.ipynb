{
 "cells": [
  {
   "cell_type": "markdown",
   "id": "df6c75bf-590d-4aba-9029-d240920fdffa",
   "metadata": {},
   "source": [
    "1. What are the characteristics of the tuples? Is tuple immutable?\n",
    "\n",
    "---Yes tuple are immutable.\n",
    "Order: Tuples maintain the order of elements, meaning the elements are stored in a specific sequence.\n",
    "\n",
    "1. Immutable: Tuples are immutable, which means once created, they cannot be modified. You cannot add, remove, or change elements in a tuple. However, you can create a new tuple by combining or manipulating existing tuples.\n",
    "2. Heterogeneous: Tuples can contain elements of different data types. For example, a tuple can contain integers, strings, floats, or even other tuples.\n",
    "3. Indexing: Elements in a tuple can be accessed using their indices. The first element has an index of 0, the second element has an index of 1, and so on.\n",
    "4. Iteration: Tuples can be iterated using loops or other iterable methods to access each element sequentially.\n",
    "5. Size: Tuples have a fixed size, meaning the number of elements in a tuple is determined at the time of creation and cannot be changed.\n",
    "6. Multiple Assignment: Tuples support multiple assignment, allowing you to assign multiple values to multiple variables in a single statement.\n",
    "        "
   ]
  },
  {
   "cell_type": "markdown",
   "id": "9866f8cb-657a-4ccf-ac93-fedcdf086c4f",
   "metadata": {},
   "source": [
    "Q2. What are the two tuple methods in python? Give an example of each method. Give a reason why \n",
    "tuples have only two in-built methods as compared to Lists.\n",
    "\n",
    "1. In Python, tuples have two built-in methods: count() and index().\n",
    "2. A reason why tuples have only two in-built methods as compared to Lists.\n",
    "   Tuples have limited built-in methods because they are designed to be immutable, meaning they cannot be modified after creation.Lists, on the    other hand, are mutable, and they provide a wide range of built-in methods to add, remove, modify, or rearrange elements. "
   ]
  },
  {
   "cell_type": "code",
   "execution_count": 12,
   "id": "bc0eb238-9f9e-416f-97e3-86f92ea26352",
   "metadata": {},
   "outputs": [
    {
     "name": "stdout",
     "output_type": "stream",
     "text": [
      "4\n"
     ]
    }
   ],
   "source": [
    "t1 = (1,2,2,3,4,2,1,5,7,5,7,8,2)\n",
    "count = t1.count(2)\n",
    "print(count)"
   ]
  },
  {
   "cell_type": "code",
   "execution_count": 15,
   "id": "a157a3ca-d1cb-46ac-a285-9162529a26ab",
   "metadata": {},
   "outputs": [
    {
     "name": "stdout",
     "output_type": "stream",
     "text": [
      "2\n"
     ]
    }
   ],
   "source": [
    "t2 = ('sumit','ajay','ayush')\n",
    "count = t2.index('ayush')\n",
    "print(count)"
   ]
  },
  {
   "cell_type": "markdown",
   "id": "c5b05468-6de1-46ec-930c-45894a078f7c",
   "metadata": {},
   "source": [
    "Q3.  Which collection datatypes in python do not allow duplicate items? Write a code using a set to remove \n",
    "duplicates from the given list.\n",
    "List = [1, 1, 1, 2, 1, 3, 1, 4, 2, 1, 2, 2, 2, 3, 2, 4, 3, 1, 3, 2, 3, 3, 3, 4, 4, 1, 4, 2, 4, 3, 4, 4]"
   ]
  },
  {
   "cell_type": "code",
   "execution_count": 18,
   "id": "bf3f8fc4-815b-43d8-8ef6-9d72b3a4101d",
   "metadata": {},
   "outputs": [],
   "source": [
    " l1 = {1, 1, 1, 2, 1, 3, 1, 4, 2, 1, 2, 2, 2, 3, 2, 4, 3, 1, 3, 2, 3, 3, 3, 4, 4, 1, 4, 2, 4, 3, 4, 4}\n",
    "    "
   ]
  },
  {
   "cell_type": "code",
   "execution_count": 19,
   "id": "0d0227b3-d618-419c-b9dc-8d4d4cae0899",
   "metadata": {},
   "outputs": [
    {
     "data": {
      "text/plain": [
       "{1, 2, 3, 4}"
      ]
     },
     "execution_count": 19,
     "metadata": {},
     "output_type": "execute_result"
    }
   ],
   "source": [
    "l1"
   ]
  },
  {
   "cell_type": "markdown",
   "id": "85cb2bfb-5404-40aa-a5f9-996b4ed23a3c",
   "metadata": {},
   "source": [
    "Q4. Explain the difference between the union() and update() methods for a set. Give an example of \n",
    "each method.\n",
    "\n",
    "In Python, the union() and update() methods are used to combine sets, but they differ in how they handle the operation and the resulting set."
   ]
  },
  {
   "cell_type": "markdown",
   "id": "375b3725-0441-4b9f-b4a2-778bc91bb37f",
   "metadata": {},
   "source": [
    "Union()\n",
    "The union() method returns a new set that contains all the unique elements from the original set and one or more other sets.\n",
    "The original sets are not modified, and a new set is created as the result of the operation.\n"
   ]
  },
  {
   "cell_type": "code",
   "execution_count": 23,
   "id": "28eecb2f-269d-45fb-ac15-d0b60a671fd3",
   "metadata": {},
   "outputs": [
    {
     "name": "stdout",
     "output_type": "stream",
     "text": [
      "{1, 2, 3, 4, 5, 6}\n"
     ]
    }
   ],
   "source": [
    "s1 = {1,2,3}\n",
    "s2 = {4,5,6}\n",
    "s3 = s1.union(s2)\n",
    "print(s3)"
   ]
  },
  {
   "cell_type": "code",
   "execution_count": 31,
   "id": "ddf5acf5-ecf0-474b-86d2-d42b691b19b3",
   "metadata": {},
   "outputs": [
    {
     "name": "stdout",
     "output_type": "stream",
     "text": [
      "None\n"
     ]
    }
   ],
   "source": [
    "s4 = {1,2,3,4,5}\n",
    "s5 = {2,4,8}\n",
    "s6 = s4.update(s5)\n",
    "print(s6)"
   ]
  },
  {
   "cell_type": "markdown",
   "id": "9137a761-5e69-4db2-a043-008298924a89",
   "metadata": {},
   "source": [
    "UNION()\n",
    "The update() method modifies the original set by adding all the elements from one or more other sets.\n",
    "It directly modifies the set on which it is called, rather than creating a new set."
   ]
  },
  {
   "cell_type": "code",
   "execution_count": null,
   "id": "c252ea6a-a61a-4ccc-b079-d155a9198bd4",
   "metadata": {},
   "outputs": [
    {
     "name": "stdout",
     "output_type": "stream",
     "text": [
      "{1, 2, 3, 4, 5}\n"
     ]
    }
   ],
   "source": [
    "s4 = {1, 2, 3}\n",
    "s5 = {3, 4, 5}\n",
    "\n",
    "s4.update(s5)\n",
    "\n",
    "print(s4)"
   ]
  },
  {
   "cell_type": "markdown",
   "id": "fc68d00e-dc91-4c72-9104-77d2cfafcd18",
   "metadata": {},
   "source": [
    "Q5. What is a dictionary? Give an example. Also, state whether a dictionary is ordered or unordered\n",
    "\n",
    "In Python, a dictionary is a collection of key-value pairs. It is a mutable and unordered data structure that allows you to store and retrieve data using unique keys. Each key in a dictionary maps to a corresponding value, forming a key-value pair. Dictionaries are implemented using hash tables, which provide efficient lookup and retrieval of values based on their keys."
   ]
  },
  {
   "cell_type": "code",
   "execution_count": 34,
   "id": "93e00d89-e30e-4932-a7c2-b389bc2680c9",
   "metadata": {},
   "outputs": [],
   "source": [
    "d1 = {'sumit':12,'ajay':11,'vishal':10,'ayush':9}"
   ]
  },
  {
   "cell_type": "code",
   "execution_count": 35,
   "id": "90eeabc4-4000-47c6-a413-60635b234399",
   "metadata": {},
   "outputs": [
    {
     "data": {
      "text/plain": [
       "{'sumit': 12, 'ajay': 11, 'vishal': 10, 'ayush': 9}"
      ]
     },
     "execution_count": 35,
     "metadata": {},
     "output_type": "execute_result"
    }
   ],
   "source": [
    "d1"
   ]
  },
  {
   "cell_type": "markdown",
   "id": "0870ae91-2f9f-455b-80c0-5a32b1297db6",
   "metadata": {},
   "source": [
    "Q6. Can we create a nested dictionary? If so, please give an example by creating a simple one-level \n",
    "nested dictionary\n",
    "\n",
    "Yes, we can create a nested dictionary in Python. A nested dictionary is a dictionary where the values can themselves be dictionaries. This allows for a hierarchical structure, where each level represents a different level of information."
   ]
  },
  {
   "cell_type": "code",
   "execution_count": 42,
   "id": "22514182-56fe-450d-a1f6-df897072b28e",
   "metadata": {},
   "outputs": [
    {
     "name": "stdout",
     "output_type": "stream",
     "text": [
      "sumit\n",
      "sumit@gmail.com\n",
      "123456789\n"
     ]
    }
   ],
   "source": [
    "e = {\n",
    "    'name': 'sumit',\n",
    "    'age': 23,\n",
    "    'position': 'Data Analyst',\n",
    "    'contact': {\n",
    "        'email': 'sumit@gmail.com',\n",
    "        'phone': '123456789'\n",
    "    }\n",
    "}\n",
    "print(e['name'])                \n",
    "print(e['contact']['email'])    \n",
    "print(e['contact']['phone'])"
   ]
  },
  {
   "cell_type": "markdown",
   "id": "05863600-9937-4204-8b31-3e110e5b0f96",
   "metadata": {},
   "source": [
    "Q7. Using setdefault() method, create key named topics in the given dictionary and also add the value of \n",
    "the key as this list ['Python', 'Machine Learning’, 'Deep Learning']"
   ]
  },
  {
   "cell_type": "code",
   "execution_count": 43,
   "id": "a8521544-20f0-4dbe-8e62-3ebe944aece9",
   "metadata": {},
   "outputs": [
    {
     "name": "stdout",
     "output_type": "stream",
     "text": [
      "{'name': 'Sumit', 'age': 23, 'topics': ['Python', 'Machine Learning', 'Deep Learning']}\n"
     ]
    }
   ],
   "source": [
    "d1 = {'name': 'Sumit', 'age': 23}\n",
    "\n",
    "l1 = ['Python', 'Machine Learning', 'Deep Learning']\n",
    "d1.setdefault('topics', l1)\n",
    "\n",
    "print(d1)\n"
   ]
  },
  {
   "cell_type": "markdown",
   "id": "3a9766b4-5bdd-47a5-9c54-5d65905f54f9",
   "metadata": {},
   "source": [
    "Q8. What are the three view objects in dictionaries? Use the three in-built methods in python to display \n",
    "these three view objects for the given dictionary.\n",
    "\n",
    "\n",
    "dict1 = {'Sport': 'Cricket' , 'Teams': ['India', 'Australia', 'England', 'South Africa', 'Sri Lanka', 'New Zealand']"
   ]
  },
  {
   "cell_type": "code",
   "execution_count": null,
   "id": "a3663afa-0776-4872-b48a-3b335ed3c998",
   "metadata": {},
   "outputs": [],
   "source": [
    "d1 = {'Sport': 'Cricket', 'Teams': ['India', 'Australia', 'England', 'South Africa', 'Sri Lanka', 'New Zealand']}\n",
    "\n",
    "k= d1.keys()\n",
    "v = d1.values()\n",
    "i = d1.items()\n",
    "\n",
    "print(k)\n",
    "print()\n",
    "print(items_view)\n"
   ]
  }
 ],
 "metadata": {
  "kernelspec": {
   "display_name": "Python 3 (ipykernel)",
   "language": "python",
   "name": "python3"
  },
  "language_info": {
   "codemirror_mode": {
    "name": "ipython",
    "version": 3
   },
   "file_extension": ".py",
   "mimetype": "text/x-python",
   "name": "python",
   "nbconvert_exporter": "python",
   "pygments_lexer": "ipython3",
   "version": "3.10.8"
  }
 },
 "nbformat": 4,
 "nbformat_minor": 5
}
